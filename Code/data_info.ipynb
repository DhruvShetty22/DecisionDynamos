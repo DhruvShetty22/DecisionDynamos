{
 "cells": [
  {
   "cell_type": "code",
   "execution_count": 1,
   "id": "3cd69ba5-a738-44f7-987c-b032004b535f",
   "metadata": {},
   "outputs": [
    {
     "name": "stdout",
     "output_type": "stream",
     "text": [
      "       id2     id3    id6                      id4   id7\n",
      "0  2431360  618619  Tiles  2023-10-22 08:08:17.768  None\n",
      "1  2431360  363153  Tiles  2023-10-22 08:08:18.921  None\n",
      "2  2431360   97193  Tiles  2023-10-22 08:08:17.765  None\n",
      "3  2431360  654444  Tiles  2023-10-22 08:08:17.737  None\n",
      "4  2431360   32325  Tiles  2023-10-22 08:08:17.812  None\n"
     ]
    }
   ],
   "source": [
    "import pandas as pd\n",
    "\n",
    "# Load the Parquet file\n",
    "add_event = pd.read_parquet('./Dataset/add_event.parquet')\n",
    "print(add_event.head())\n"
   ]
  },
  {
   "cell_type": "code",
   "execution_count": 14,
   "id": "4751b324-57fa-4969-8b93-4c92a632cdad",
   "metadata": {},
   "outputs": [
    {
     "data": {
      "text/plain": [
       "(21457473, 5)"
      ]
     },
     "execution_count": 14,
     "metadata": {},
     "output_type": "execute_result"
    }
   ],
   "source": [
    "add_event.shape\n"
   ]
  },
  {
   "cell_type": "code",
   "execution_count": 2,
   "id": "e8ab0bc9-e424-41d7-a90f-946fe8628103",
   "metadata": {},
   "outputs": [
    {
     "name": "stdout",
     "output_type": "stream",
     "text": [
      "       id2   f367 f368 f369        f370      f371    f372       id8 f374\n",
      "0  2896709  15.60  PBR    D  2023-10-16  19:16:52  202310  59639998  DSE\n",
      "1  2855047   6.40   PR    D  2023-10-14  13:01:16  202310  59639998  DSE\n",
      "2  2497175  13.99  PBR    D  2023-10-14  00:31:48  202310  59639998  DSE\n",
      "3  2655364  15.14  PGC    D  2023-10-13  12:37:25  202310  59639998  DSE\n",
      "4  2855047   2.12   PR    D  2023-10-09  16:51:21  202310  59639998  DSE\n",
      "<class 'pandas.core.frame.DataFrame'>\n",
      "RangeIndex: 6339465 entries, 0 to 6339464\n",
      "Data columns (total 9 columns):\n",
      " #   Column  Dtype  \n",
      "---  ------  -----  \n",
      " 0   id2     int32  \n",
      " 1   f367    float64\n",
      " 2   f368    object \n",
      " 3   f369    object \n",
      " 4   f370    object \n",
      " 5   f371    object \n",
      " 6   f372    object \n",
      " 7   id8     object \n",
      " 8   f374    object \n",
      "dtypes: float64(1), int32(1), object(7)\n",
      "memory usage: 411.1+ MB\n"
     ]
    }
   ],
   "source": [
    "add_trans = pd.read_parquet('./Dataset/add_trans.parquet')\n",
    "print(add_trans.head())\n",
    "add_trans.info()\n"
   ]
  },
  {
   "cell_type": "code",
   "execution_count": 5,
   "id": "f4a0213b-2f6a-43ad-bc8b-f2d0bba0b781",
   "metadata": {},
   "outputs": [
    {
     "name": "stdout",
     "output_type": "stream",
     "text": [
      "         id3   id9  f375   f376  f377 id10  id11 f378  f374   id8  \\\n",
      "0      70687  FO5O     2    5.0  None    1  None    N  None  None   \n",
      "1  900002526   UGE     2  100.0  None    1  None    N  None  None   \n",
      "2  900002864   UTP     1  100.0  None    1  None    N  None  None   \n",
      "3      19508     o     2    NaN  None    1  None    N  None  None   \n",
      "4      35903     o     2    NaN  None    1  None    N  None  None   \n",
      "\n",
      "                  id12                 id13  \n",
      "0  2018-01-01 00:00:00  2099-12-31 23:59:59  \n",
      "1  2014-10-20 00:00:00  2099-12-31 23:59:59  \n",
      "2  2016-07-19 00:00:00  2099-12-31 23:59:59  \n",
      "3  2019-06-02 17:00:00  2028-12-31 16:59:59  \n",
      "4  2019-06-02 17:00:00  2028-12-31 16:59:59  \n"
     ]
    }
   ],
   "source": [
    "offer_metadata = pd.read_parquet('./Dataset/offer_metadata.parquet')\n",
    "print(offer_metadata.head())\n"
   ]
  },
  {
   "cell_type": "code",
   "execution_count": 13,
   "id": "483810b2-37da-4d1a-b4f8-a099d34f5bbc",
   "metadata": {},
   "outputs": [
    {
     "data": {
      "text/plain": [
       "(4164, 12)"
      ]
     },
     "execution_count": 13,
     "metadata": {},
     "output_type": "execute_result"
    }
   ],
   "source": [
    "offer_metadata.shape"
   ]
  },
  {
   "cell_type": "code",
   "execution_count": 11,
   "id": "ead38b75-061c-4f7a-8fe8-a9e8a594b59c",
   "metadata": {},
   "outputs": [
    {
     "name": "stdout",
     "output_type": "stream",
     "text": [
      "                                                    id1      id2     id3  \\\n",
      "46756    1362907_91950_16-23_2023-11-04 18:56:26.000794  1362907   91950   \n",
      "57819       1082599_88356_16-23_2023-11-04 06:08:53.373  1082599   88356   \n",
      "15390   1888466_958700_16-23_2023-11-05 10:07:28.000725  1888466  958700   \n",
      "145730     1888971_795739_16-23_2023-11-04 12:25:28.244  1888971  795739   \n",
      "146085      1256369_82296_16-23_2023-11-05 06:45:26.657  1256369   82296   \n",
      "\n",
      "                               id4         id5    f1    f2    f3    f4    f5  \\\n",
      "46756   2023-11-04 18:56:26.000794  2023-11-04  None  None  None  None  None   \n",
      "57819      2023-11-04 06:08:53.373  2023-11-04  None   9.0  None  None  None   \n",
      "15390   2023-11-05 10:07:28.000725  2023-11-05  None  None  None  None  22.0   \n",
      "145730     2023-11-04 12:25:28.244  2023-11-04  None  None  None  None  None   \n",
      "146085     2023-11-05 06:45:26.657  2023-11-05  None  None  None  None  None   \n",
      "\n",
      "        ...                 f357                f358 f359  f360   f361  f362  \\\n",
      "46756   ...   0.0027807272790246  0.0465999838670646  0.0  None    1.0   0.0   \n",
      "57819   ...   0.0014287946777398  0.0603093514970909  0.0  None  195.0  13.0   \n",
      "15390   ...  -0.0174961119751166  0.0734836702954899  0.0  None  155.0  67.0   \n",
      "145730  ...   0.0013159476327096   0.040572039549215  0.0  None   None  None   \n",
      "146085  ...   0.0020541699799278   0.038243539079214  0.0  None   29.0   2.0   \n",
      "\n",
      "                      f363    f364   f365                f366  \n",
      "46756                  0.0    56.0    0.0                 0.0  \n",
      "57819   0.0666666666666666    None   None                None  \n",
      "15390    0.432258064516129  1142.0  436.0  0.3817863397548161  \n",
      "145730                None    None   None                None  \n",
      "146085  0.0689655172413793   361.0    3.0  0.0083102493074792  \n",
      "\n",
      "[5 rows x 371 columns]\n"
     ]
    }
   ],
   "source": [
    "test_data = pd.read_parquet('./Dataset/test_data.parquet')\n",
    "print(test_data.head())\n"
   ]
  },
  {
   "cell_type": "code",
   "execution_count": 9,
   "id": "7980d956-6c5e-4e17-af4f-06c85d818a1b",
   "metadata": {},
   "outputs": [
    {
     "name": "stdout",
     "output_type": "stream",
     "text": [
      "                                               id1      id2        id3  \\\n",
      "0  1366776_189706075_16-23_2023-11-02 22:22:00.042  1366776  189706075   \n",
      "1      1366776_89227_16-23_2023-11-01 23:51:24.999  1366776      89227   \n",
      "2      1366776_35046_16-23_2023-11-01 00:30:59.797  1366776      35046   \n",
      "3    1366776_6275451_16-23_2023-11-02 22:21:32.261  1366776    6275451   \n",
      "4      1366776_78053_16-23_2023-11-02 22:21:34.799  1366776      78053   \n",
      "\n",
      "                       id4         id5  y   f1    f2    f3    f4  ...  f357  \\\n",
      "0  2023-11-02 22:22:00.042  2023-11-02  0  1.0  None  None  None  ...  None   \n",
      "1  2023-11-01 23:51:24.999  2023-11-01  0  1.0  None  None  None  ...  None   \n",
      "2  2023-11-01 00:30:59.797  2023-11-01  0  1.0  None  None  None  ...  None   \n",
      "3  2023-11-02 22:21:32.261  2023-11-02  0  1.0  None  None  None  ...  None   \n",
      "4  2023-11-02 22:21:34.799  2023-11-02  0  1.0  None  None  None  ...  None   \n",
      "\n",
      "      f358 f359  f360   f361 f362               f363    f364 f365  \\\n",
      "0  -9999.0  0.0  None   28.0  0.0                0.0   337.0  0.0   \n",
      "1     None  0.0  None   87.0  0.0                0.0  1010.0  2.0   \n",
      "2     None  0.0  None   23.0  0.0                0.0  1010.0  2.0   \n",
      "3  -9999.0  0.0  None  277.0  1.0  0.003610108303249   337.0  0.0   \n",
      "4  -9999.0  0.0  None  359.0  0.0                0.0   337.0  0.0   \n",
      "\n",
      "                 f366  \n",
      "0                 0.0  \n",
      "1  0.0019801980198019  \n",
      "2  0.0019801980198019  \n",
      "3                 0.0  \n",
      "4                 0.0  \n",
      "\n",
      "[5 rows x 372 columns]\n"
     ]
    }
   ],
   "source": [
    "train_data = pd.read_parquet('./Dataset/train_data.parquet')\n",
    "print(train_data.head())\n"
   ]
  },
  {
   "cell_type": "code",
   "execution_count": null,
   "id": "e74052df-ea69-4401-908b-ef0139f3dfd7",
   "metadata": {},
   "outputs": [],
   "source": []
  },
  {
   "cell_type": "code",
   "execution_count": 12,
   "id": "848497ed-4038-4f73-ba2f-d75ee3e5e5e3",
   "metadata": {},
   "outputs": [
    {
     "data": {
      "text/plain": [
       "(770164, 372)"
      ]
     },
     "execution_count": 12,
     "metadata": {},
     "output_type": "execute_result"
    }
   ],
   "source": [
    "train_data.shape"
   ]
  }
 ],
 "metadata": {
  "kernelspec": {
   "display_name": "Python 3 (ipykernel)",
   "language": "python",
   "name": "python3"
  },
  "language_info": {
   "codemirror_mode": {
    "name": "ipython",
    "version": 3
   },
   "file_extension": ".py",
   "mimetype": "text/x-python",
   "name": "python",
   "nbconvert_exporter": "python",
   "pygments_lexer": "ipython3",
   "version": "3.12.2"
  }
 },
 "nbformat": 4,
 "nbformat_minor": 5
}
